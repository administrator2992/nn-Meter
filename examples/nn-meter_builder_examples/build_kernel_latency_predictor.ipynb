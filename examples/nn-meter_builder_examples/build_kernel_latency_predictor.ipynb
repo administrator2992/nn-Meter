{
 "cells": [
  {
   "cell_type": "markdown",
   "metadata": {},
   "source": [
    "# Build Kernel Latency Predictor\n",
    "Users could refer to the [Guidance](../../docs/builder/build_kernel_latency_predictor.md) for details information."
   ]
  },
  {
   "cell_type": "code",
   "execution_count": 1,
   "metadata": {},
   "outputs": [],
   "source": [
    "import warnings\n",
    "from silence_tensorflow import silence_tensorflow\n",
    "warnings.filterwarnings('ignore')\n",
    "silence_tensorflow()"
   ]
  },
  {
   "cell_type": "code",
   "execution_count": 2,
   "metadata": {},
   "outputs": [],
   "source": [
    "# initialize builder config with workspace\n",
    "from nn_meter.builder import builder_config\n",
    "workspace = \"/data1/jiahang/working/release2test/\"\n",
    "builder_config.init(workspace) "
   ]
  },
  {
   "cell_type": "code",
   "execution_count": 3,
   "metadata": {},
   "outputs": [],
   "source": [
    "# define experiment parameters\n",
    "kernel_type = \"conv-bn-relu\"\n",
    "backend = \"debug_backend\"\n",
    "mark = \"test\"\n",
    "error_threshold = 0.1"
   ]
  },
  {
   "cell_type": "markdown",
   "metadata": {},
   "source": [
    "nn-Meter provides APIs from different level to build the latency predictor. The finest grain of APIs initialize the predictor by random sampling, and apply adaptive sampling based on previous data. Here is an example:"
   ]
  },
  {
   "cell_type": "code",
   "execution_count": 4,
   "metadata": {},
   "outputs": [
    {
     "name": "stdout",
     "output_type": "stream",
     "text": [
      "(nn-Meter) building kernel for conv-bn-relu...\n",
      "(nn-Meter) conv-bn-relu model is generated and saved to /data1/jiahang/working/release2test/predictor_build/models/conv-bn-relu_priortest_JY51LK.\n",
      "(nn-Meter) conv-bn-relu model is generated and saved to /data1/jiahang/working/release2test/predictor_build/models/conv-bn-relu_priortest_Q07BGY.\n",
      "(nn-Meter) conv-bn-relu model is generated and saved to /data1/jiahang/working/release2test/predictor_build/models/conv-bn-relu_priortest_454622.\n",
      "(nn-Meter) conv-bn-relu model is generated and saved to /data1/jiahang/working/release2test/predictor_build/models/conv-bn-relu_priortest_786ZP3.\n",
      "(nn-Meter) conv-bn-relu model is generated and saved to /data1/jiahang/working/release2test/predictor_build/models/conv-bn-relu_priortest_EP5IDQ.\n",
      "(nn-Meter) conv-bn-relu model is generated and saved to /data1/jiahang/working/release2test/predictor_build/models/conv-bn-relu_priortest_Q07MUE.\n",
      "(nn-Meter) conv-bn-relu model is generated and saved to /data1/jiahang/working/release2test/predictor_build/models/conv-bn-relu_priortest_J6UPIM.\n",
      "(nn-Meter) conv-bn-relu model is generated and saved to /data1/jiahang/working/release2test/predictor_build/models/conv-bn-relu_priortest_RY2MMG.\n",
      "(nn-Meter) conv-bn-relu model is generated and saved to /data1/jiahang/working/release2test/predictor_build/models/conv-bn-relu_priortest_A57FT5.\n",
      "(nn-Meter) Generate 9 kernels with kernels model saved in /data1/jiahang/working/release2test/predictor_build/models.\n",
      "(nn-Meter) Save the kernel model information to /data1/jiahang/working/release2test/predictor_build/results/conv-bn-relu_priortest.json\n",
      "(nn-Meter) Profiling ...\n",
      "(nn-Meter) All 9 models profiling complete. Save all success profiled results to /data1/jiahang/working/release2test/predictor_build/results/profiled_conv-bn-relu.json.\n",
      "(nn-Meter) Saved the feature table of all data for conv-bn-relu in path /data1/jiahang/working/release2test/predictor_build/results/collection/Data_conv-bn-relu_priortest.csv.\n",
      "(nn-Meter) training data size: 7, test data size: 2\n",
      "(nn-Meter) rmse: 32.1800; rmspe: 186.0863; error: 0.6318; 5% accuracy: 0.0000; 10% accuracy: 0.0000; 15% accuracy: 0.0000.\n",
      "(nn-Meter) All test data and predicted results are stored in path /data1/jiahang/working/release2test/predictor_build/results/collection/TestResult_conv-bn-relu_priortest.csv\n",
      "(nn-Meter) Saved the predictor for conv-bn-relu in path /data1/jiahang/working/release2test/predictor_build/results/predictors/conv-bn-relu_priortest.pkl.\n",
      "(nn-Meter) Iteration 0: acc10 0.0, error_configs number: 2\n"
     ]
    }
   ],
   "source": [
    "from nn_meter.builder import build_initial_predictor_by_data, build_adaptive_predictor_by_data\n",
    "\n",
    "# initialize kernel latency predictor\n",
    "predictor, data = build_initial_predictor_by_data(\n",
    "    kernel_type, backend, init_sample_num=10, mark=mark\n",
    ")"
   ]
  },
  {
   "cell_type": "code",
   "execution_count": 5,
   "metadata": {},
   "outputs": [
    {
     "name": "stdout",
     "output_type": "stream",
     "text": [
      "(nn-Meter) training data size: 7, test data size: 2\n",
      "(nn-Meter) rmse: 32.1800; rmspe: 186.0863; error: 0.6318; 5% accuracy: 0.0000; 10% accuracy: 0.0000; 15% accuracy: 0.0000.\n",
      "(nn-Meter) building kernel for conv-bn-relu...\n",
      "(nn-Meter) conv-bn-relu model is generated and saved to /data1/jiahang/working/release2test/predictor_build/models/conv-bn-relu__4UVJ0W.\n",
      "(nn-Meter) conv-bn-relu model is generated and saved to /data1/jiahang/working/release2test/predictor_build/models/conv-bn-relu__L307NB.\n",
      "(nn-Meter) conv-bn-relu model is generated and saved to /data1/jiahang/working/release2test/predictor_build/models/conv-bn-relu__HPIT4B.\n",
      "(nn-Meter) conv-bn-relu model is generated and saved to /data1/jiahang/working/release2test/predictor_build/models/conv-bn-relu__FHKQC9.\n",
      "(nn-Meter) conv-bn-relu model is generated and saved to /data1/jiahang/working/release2test/predictor_build/models/conv-bn-relu__R0YHJA.\n",
      "(nn-Meter) conv-bn-relu model is generated and saved to /data1/jiahang/working/release2test/predictor_build/models/conv-bn-relu__F7LAZ4.\n",
      "(nn-Meter) conv-bn-relu model is generated and saved to /data1/jiahang/working/release2test/predictor_build/models/conv-bn-relu__3NDXWF.\n",
      "(nn-Meter) conv-bn-relu model is generated and saved to /data1/jiahang/working/release2test/predictor_build/models/conv-bn-relu__XVQN50.\n",
      "(nn-Meter) conv-bn-relu model is generated and saved to /data1/jiahang/working/release2test/predictor_build/models/conv-bn-relu__JWMEYZ.\n",
      "(nn-Meter) conv-bn-relu model is generated and saved to /data1/jiahang/working/release2test/predictor_build/models/conv-bn-relu__FMNSGS.\n",
      "(nn-Meter) Generate 10 kernels with kernels model saved in /data1/jiahang/working/release2test/predictor_build/models.\n",
      "(nn-Meter) Save the kernel model information to /data1/jiahang/working/release2test/predictor_build/results/conv-bn-relu_.json\n",
      "(nn-Meter) Profiling ...\n",
      "(nn-Meter) All 10 models profiling complete. Save all success profiled results to /data1/jiahang/working/release2test/predictor_build/results/profiled_conv-bn-relu.json.\n",
      "(nn-Meter) Saved the feature table of all data for conv-bn-relu in path /data1/jiahang/working/release2test/predictor_build/results/collection/Data_conv-bn-relu_finegrained.csv.\n",
      "(nn-Meter) training data size: 15, test data size: 4\n",
      "(nn-Meter) rmse: 25.7275; rmspe: 106.8156; error: 0.4221; 5% accuracy: 0.0000; 10% accuracy: 0.2500; 15% accuracy: 0.7500.\n",
      "(nn-Meter) All test data and predicted results are stored in path /data1/jiahang/working/release2test/predictor_build/results/collection/TestResult_conv-bn-relu_finegrained.csv\n",
      "(nn-Meter) Saved the predictor for conv-bn-relu in path /data1/jiahang/working/release2test/predictor_build/results/predictors/conv-bn-relu_finegrained.pkl.\n",
      "(nn-Meter) : acc10 0.25, error_configs number: 3\n"
     ]
    }
   ],
   "source": [
    "# use the data for init predictor to build adaptive sampler predictor\n",
    "# this method could be called iteratively to conduct more iterations of adaptive sampling\n",
    "predictor, data = build_adaptive_predictor_by_data(\n",
    "    kernel_type, data, backend, finegrained_sample_num=5\n",
    ")"
   ]
  },
  {
   "cell_type": "markdown",
   "metadata": {},
   "source": [
    "Another method `build_predictor_for_kernel` is provided to integrate initial sampling and adaptive sampling. In this method, both `init_sample_num` and `finegrained_sample_num` should be assigned, and the `iteration` indicates the iteration of adaptive sampling. Initial sampling is regarded as iteration 1, thus `iteration == 2` means one iteration for adaptive sampling."
   ]
  },
  {
   "cell_type": "code",
   "execution_count": 6,
   "metadata": {},
   "outputs": [
    {
     "name": "stdout",
     "output_type": "stream",
     "text": [
      "(nn-Meter) building kernel for conv-bn-relu...\n",
      "(nn-Meter) conv-bn-relu model is generated and saved to /data1/jiahang/working/release2test/predictor_build/models/conv-bn-relu_prior_3NF8BP.\n",
      "(nn-Meter) conv-bn-relu model is generated and saved to /data1/jiahang/working/release2test/predictor_build/models/conv-bn-relu_prior_3BJMW3.\n",
      "(nn-Meter) conv-bn-relu model is generated and saved to /data1/jiahang/working/release2test/predictor_build/models/conv-bn-relu_prior_IMMVWF.\n",
      "(nn-Meter) conv-bn-relu model is generated and saved to /data1/jiahang/working/release2test/predictor_build/models/conv-bn-relu_prior_JVRW54.\n",
      "(nn-Meter) conv-bn-relu model is generated and saved to /data1/jiahang/working/release2test/predictor_build/models/conv-bn-relu_prior_L7HTBV.\n",
      "(nn-Meter) conv-bn-relu model is generated and saved to /data1/jiahang/working/release2test/predictor_build/models/conv-bn-relu_prior_FFN418.\n",
      "(nn-Meter) conv-bn-relu model is generated and saved to /data1/jiahang/working/release2test/predictor_build/models/conv-bn-relu_prior_VM92ZT.\n",
      "(nn-Meter) conv-bn-relu model is generated and saved to /data1/jiahang/working/release2test/predictor_build/models/conv-bn-relu_prior_R3HGAT.\n",
      "(nn-Meter) conv-bn-relu model is generated and saved to /data1/jiahang/working/release2test/predictor_build/models/conv-bn-relu_prior_3W6S1A.\n",
      "(nn-Meter) Generate 9 kernels with kernels model saved in /data1/jiahang/working/release2test/predictor_build/models.\n",
      "(nn-Meter) Save the kernel model information to /data1/jiahang/working/release2test/predictor_build/results/conv-bn-relu_prior.json\n",
      "(nn-Meter) Profiling ...\n",
      "(nn-Meter) All 9 models profiling complete. Save all success profiled results to /data1/jiahang/working/release2test/predictor_build/results/profiled_conv-bn-relu.json.\n",
      "(nn-Meter) Saved the feature table of all data for conv-bn-relu in path /data1/jiahang/working/release2test/predictor_build/results/collection/Data_conv-bn-relu_prior.csv.\n",
      "(nn-Meter) training data size: 7, test data size: 2\n",
      "(nn-Meter) rmse: 36.6260; rmspe: 15901.2697; error: 1.0664; 5% accuracy: 0.5000; 10% accuracy: 0.5000; 15% accuracy: 0.5000.\n",
      "(nn-Meter) All test data and predicted results are stored in path /data1/jiahang/working/release2test/predictor_build/results/collection/TestResult_conv-bn-relu_prior.csv\n",
      "(nn-Meter) Saved the predictor for conv-bn-relu in path /data1/jiahang/working/release2test/predictor_build/results/predictors/conv-bn-relu_prior.pkl.\n",
      "(nn-Meter) Iteration 0: acc10 0.5, error_configs number: 1\n",
      "(nn-Meter) building kernel for conv-bn-relu...\n",
      "(nn-Meter) conv-bn-relu model is generated and saved to /data1/jiahang/working/release2test/predictor_build/models/conv-bn-relu_finegrained1_P94B0A.\n",
      "(nn-Meter) conv-bn-relu model is generated and saved to /data1/jiahang/working/release2test/predictor_build/models/conv-bn-relu_finegrained1_8GKIAQ.\n",
      "(nn-Meter) conv-bn-relu model is generated and saved to /data1/jiahang/working/release2test/predictor_build/models/conv-bn-relu_finegrained1_8Y649I.\n",
      "(nn-Meter) conv-bn-relu model is generated and saved to /data1/jiahang/working/release2test/predictor_build/models/conv-bn-relu_finegrained1_ZTA9IN.\n",
      "(nn-Meter) conv-bn-relu model is generated and saved to /data1/jiahang/working/release2test/predictor_build/models/conv-bn-relu_finegrained1_MMJ3VE.\n",
      "(nn-Meter) Generate 5 kernels with kernels model saved in /data1/jiahang/working/release2test/predictor_build/models.\n",
      "(nn-Meter) Save the kernel model information to /data1/jiahang/working/release2test/predictor_build/results/conv-bn-relu_finegrained1.json\n",
      "(nn-Meter) Profiling ...\n",
      "(nn-Meter) All 5 models profiling complete. Save all success profiled results to /data1/jiahang/working/release2test/predictor_build/results/profiled_conv-bn-relu.json.\n",
      "(nn-Meter) Saved the feature table of all data for conv-bn-relu in path /data1/jiahang/working/release2test/predictor_build/results/collection/Data_conv-bn-relu_finegrained1.csv.\n",
      "(nn-Meter) training data size: 11, test data size: 3\n",
      "(nn-Meter) rmse: 23.6803; rmspe: 36.2067; error: 0.3672; 5% accuracy: 0.0000; 10% accuracy: 0.0000; 15% accuracy: 0.0000.\n",
      "(nn-Meter) All test data and predicted results are stored in path /data1/jiahang/working/release2test/predictor_build/results/collection/TestResult_conv-bn-relu_finegrained1.csv\n",
      "(nn-Meter) Saved the predictor for conv-bn-relu in path /data1/jiahang/working/release2test/predictor_build/results/predictors/conv-bn-relu_finegrained1.pkl.\n",
      "(nn-Meter) Iteration 1: acc10 0.0, error_configs number: 3\n"
     ]
    }
   ],
   "source": [
    "from nn_meter.builder import build_predictor_for_kernel\n",
    "predictor, data = build_predictor_for_kernel(\n",
    "    kernel_type, backend, init_sample_num=10, finegrained_sample_num=5, iteration=2\n",
    ")"
   ]
  },
  {
   "cell_type": "markdown",
   "metadata": {},
   "source": [
    "nn-Meter also provided a end-to-end method for users to build a series of general latency predictors, named `nn_meter.builder.build_latency_predictor`. This method will build predictors for all kernels in `<workspace-path>/configs/predictorbuild_config.yaml` according to their corresponding parameters. The parameters includes `INIT_SAMPLE_NUM`, `FINEGRAINED_SAMPLE_NUM`, `ITERATION`, and `ERROR_THRESHOLD`. Here is an example:"
   ]
  },
  {
   "cell_type": "code",
   "execution_count": null,
   "metadata": {},
   "outputs": [],
   "source": [
    "# build latency predictor for kernel\n",
    "from nn_meter.builder import build_latency_predictor\n",
    "build_latency_predictor(backend=\"debug_backend\")\n"
   ]
  }
 ],
 "metadata": {
  "interpreter": {
   "hash": "e8b26d4e88bfd67f05264bddcd3043513b547d3c68498482ebbb5473451a395f"
  },
  "kernelspec": {
   "display_name": "Python 3.6.10 64-bit ('py36-Jiahang')",
   "language": "python",
   "name": "python3"
  },
  "language_info": {
   "codemirror_mode": {
    "name": "ipython",
    "version": 3
   },
   "file_extension": ".py",
   "mimetype": "text/x-python",
   "name": "python",
   "nbconvert_exporter": "python",
   "pygments_lexer": "ipython3",
   "version": "3.6.10"
  },
  "orig_nbformat": 4
 },
 "nbformat": 4,
 "nbformat_minor": 2
}
