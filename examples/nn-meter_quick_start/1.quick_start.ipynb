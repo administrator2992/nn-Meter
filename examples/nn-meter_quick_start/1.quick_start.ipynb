{
 "cells": [
  {
   "cell_type": "markdown",
   "metadata": {},
   "source": [
    "# Quick Start of nn-Meter\n",
    "nn-Meter is a novel and efficient toolkit to accurately predict the inference latency of DNN models on diverse edge devices. nn-Meter has achieved the **Mobisys 21 Best Paper Award**, here is the paper link: [nn-Meter: towards accurate latency prediction of deep-learning model inference on diverse edge devices](https://dl.acm.org/doi/10.1145/3458864.3467882). nn-Meter has been released as open source in [GitHub](https://github.com/microsoft/nn-Meter) and released as python package. In this notebook, we will try to leap the first step to use nn-Meter predictor, benchmark dataset and nn-Meter building tools. Let's start our journey!\n",
    "\n",
    "nn-Meter supports and is tested on Ubuntu >= 16.04, macOS >= 10.14.1, and Windows 10/11. Simply run the following `pip install` in an environment that has `python 64-bit >= 3.6`.\n",
    "\n",
    "```bash\n",
    "pip install nn-meter\n",
    "```\n",
    "\n",
    "After installation, a command named `nn-meter` is enabled. Users could run `nn-meter --help` to verify their installation. This is what we expect to get:\n",
    "\n",
    "```text\n",
    "usage: nn-meter [-h] [-v] [--list-predictors] {predict,lat_pred,get_ir} ...\n",
    "\n",
    "please run \"nn-meter {positional argument} --help\" to see nn-meter guidance\n",
    "\n",
    "positional arguments:\n",
    "  {predict,lat_pred,get_ir}\n",
    "    predict (lat_pred)  apply latency predictor for testing model\n",
    "    get_ir              specify a model type to convert to nn-meter ir graph\n",
    "\n",
    "optional arguments:\n",
    "  -h, --help            show this help message and exit\n",
    "  -v, --verbose         increase output verbosity\n",
    "  --list-predictors     list all supported predictors\n",
    "```\n",
    "\n",
    "We provide two main usages for nn-Meter here.\n",
    "\n",
    "- Use nn-Meter for latency prediction\n",
    "\n",
    "- Use nn-Meter benchmark dataset\n",
    "\n",
    "To run the jupyter notebook in this folder, users should download and unzip the test model data from [this link](https://github.com/microsoft/nn-Meter/tree/main/material/testmodels), and copy them to the user's project folder."
   ]
  }
 ],
 "metadata": {
  "kernelspec": {
   "display_name": "nn-meter1.1-test",
   "language": "python",
   "name": "nn-meter1.1-test"
  },
  "language_info": {
   "codemirror_mode": {
    "name": "ipython",
    "version": 3
   },
   "file_extension": ".py",
   "mimetype": "text/x-python",
   "name": "python",
   "nbconvert_exporter": "python",
   "pygments_lexer": "ipython3",
   "version": "3.6.10"
  }
 },
 "nbformat": 4,
 "nbformat_minor": 2
}
